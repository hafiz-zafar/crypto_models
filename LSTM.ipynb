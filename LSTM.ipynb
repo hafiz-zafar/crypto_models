{
 "cells": [
  {
   "cell_type": "code",
   "execution_count": 3,
   "metadata": {},
   "outputs": [
    {
     "name": "stdout",
     "output_type": "stream",
     "text": [
      "🚀 Starting model training...\n",
      "Fetching data for BTC at 1h interval...\n",
      "✅ Data fetched successfully!\n",
      "📊 Preparing data with 20 time steps...\n",
      "✅ Data prepared! Shape: X=(80, 20, 1), y=(80, 1)\n",
      "🔧 Building LSTM model...\n"
     ]
    },
    {
     "name": "stderr",
     "output_type": "stream",
     "text": [
      "c:\\Users\\yasir\\Desktop\\Python Projects\\LSTM\\lenv\\Lib\\site-packages\\keras\\src\\layers\\rnn\\rnn.py:200: UserWarning: Do not pass an `input_shape`/`input_dim` argument to a layer. When using Sequential models, prefer using an `Input(shape)` object as the first layer in the model instead.\n",
      "  super().__init__(**kwargs)\n"
     ]
    },
    {
     "name": "stdout",
     "output_type": "stream",
     "text": [
      "✅ Model built successfully!\n",
      "Epoch 1/10\n",
      "\u001b[1m8/8\u001b[0m \u001b[32m━━━━━━━━━━━━━━━━━━━━\u001b[0m\u001b[37m\u001b[0m \u001b[1m0s\u001b[0m 16ms/step - loss: 1.0620\n",
      "Epoch 1: val_loss improved from inf to 0.74594, saving model to crypto_model.h5\n"
     ]
    },
    {
     "name": "stderr",
     "output_type": "stream",
     "text": [
      "WARNING:absl:You are saving your model as an HDF5 file via `model.save()` or `keras.saving.save_model(model)`. This file format is considered legacy. We recommend using instead the native Keras format, e.g. `model.save('my_model.keras')` or `keras.saving.save_model(model, 'my_model.keras')`. \n"
     ]
    },
    {
     "name": "stdout",
     "output_type": "stream",
     "text": [
      "\u001b[1m8/8\u001b[0m \u001b[32m━━━━━━━━━━━━━━━━━━━━\u001b[0m\u001b[37m\u001b[0m \u001b[1m5s\u001b[0m 113ms/step - loss: 1.0506 - val_loss: 0.7459\n",
      "Epoch 2/10\n",
      "\u001b[1m8/8\u001b[0m \u001b[32m━━━━━━━━━━━━━━━━━━━━\u001b[0m\u001b[37m\u001b[0m \u001b[1m0s\u001b[0m 16ms/step - loss: 0.7543\n",
      "Epoch 2: val_loss improved from 0.74594 to 0.66439, saving model to crypto_model.h5\n"
     ]
    },
    {
     "name": "stderr",
     "output_type": "stream",
     "text": [
      "WARNING:absl:You are saving your model as an HDF5 file via `model.save()` or `keras.saving.save_model(model)`. This file format is considered legacy. We recommend using instead the native Keras format, e.g. `model.save('my_model.keras')` or `keras.saving.save_model(model, 'my_model.keras')`. \n"
     ]
    },
    {
     "name": "stdout",
     "output_type": "stream",
     "text": [
      "\u001b[1m8/8\u001b[0m \u001b[32m━━━━━━━━━━━━━━━━━━━━\u001b[0m\u001b[37m\u001b[0m \u001b[1m0s\u001b[0m 38ms/step - loss: 0.7542 - val_loss: 0.6644\n",
      "Epoch 3/10\n",
      "\u001b[1m5/8\u001b[0m \u001b[32m━━━━━━━━━━━━\u001b[0m\u001b[37m━━━━━━━━\u001b[0m \u001b[1m0s\u001b[0m 14ms/step - loss: 0.6564\n",
      "Epoch 3: val_loss improved from 0.66439 to 0.55602, saving model to crypto_model.h5\n"
     ]
    },
    {
     "name": "stderr",
     "output_type": "stream",
     "text": [
      "WARNING:absl:You are saving your model as an HDF5 file via `model.save()` or `keras.saving.save_model(model)`. This file format is considered legacy. We recommend using instead the native Keras format, e.g. `model.save('my_model.keras')` or `keras.saving.save_model(model, 'my_model.keras')`. \n"
     ]
    },
    {
     "name": "stdout",
     "output_type": "stream",
     "text": [
      "\u001b[1m8/8\u001b[0m \u001b[32m━━━━━━━━━━━━━━━━━━━━\u001b[0m\u001b[37m\u001b[0m \u001b[1m0s\u001b[0m 37ms/step - loss: 0.6456 - val_loss: 0.5560\n",
      "Epoch 4/10\n",
      "\u001b[1m5/8\u001b[0m \u001b[32m━━━━━━━━━━━━\u001b[0m\u001b[37m━━━━━━━━\u001b[0m \u001b[1m0s\u001b[0m 14ms/step - loss: 0.5812\n",
      "Epoch 4: val_loss improved from 0.55602 to 0.49148, saving model to crypto_model.h5\n"
     ]
    },
    {
     "name": "stderr",
     "output_type": "stream",
     "text": [
      "WARNING:absl:You are saving your model as an HDF5 file via `model.save()` or `keras.saving.save_model(model)`. This file format is considered legacy. We recommend using instead the native Keras format, e.g. `model.save('my_model.keras')` or `keras.saving.save_model(model, 'my_model.keras')`. \n"
     ]
    },
    {
     "name": "stdout",
     "output_type": "stream",
     "text": [
      "\u001b[1m8/8\u001b[0m \u001b[32m━━━━━━━━━━━━━━━━━━━━\u001b[0m\u001b[37m\u001b[0m \u001b[1m0s\u001b[0m 41ms/step - loss: 0.5723 - val_loss: 0.4915\n",
      "Epoch 5/10\n",
      "\u001b[1m8/8\u001b[0m \u001b[32m━━━━━━━━━━━━━━━━━━━━\u001b[0m\u001b[37m\u001b[0m \u001b[1m0s\u001b[0m 16ms/step - loss: 0.5022\n",
      "Epoch 5: val_loss improved from 0.49148 to 0.45064, saving model to crypto_model.h5\n"
     ]
    },
    {
     "name": "stderr",
     "output_type": "stream",
     "text": [
      "WARNING:absl:You are saving your model as an HDF5 file via `model.save()` or `keras.saving.save_model(model)`. This file format is considered legacy. We recommend using instead the native Keras format, e.g. `model.save('my_model.keras')` or `keras.saving.save_model(model, 'my_model.keras')`. \n"
     ]
    },
    {
     "name": "stdout",
     "output_type": "stream",
     "text": [
      "\u001b[1m8/8\u001b[0m \u001b[32m━━━━━━━━━━━━━━━━━━━━\u001b[0m\u001b[37m\u001b[0m \u001b[1m0s\u001b[0m 39ms/step - loss: 0.5000 - val_loss: 0.4506\n",
      "Epoch 6/10\n",
      "\u001b[1m5/8\u001b[0m \u001b[32m━━━━━━━━━━━━\u001b[0m\u001b[37m━━━━━━━━\u001b[0m \u001b[1m0s\u001b[0m 13ms/step - loss: 0.4463\n",
      "Epoch 6: val_loss improved from 0.45064 to 0.38356, saving model to crypto_model.h5\n"
     ]
    },
    {
     "name": "stderr",
     "output_type": "stream",
     "text": [
      "WARNING:absl:You are saving your model as an HDF5 file via `model.save()` or `keras.saving.save_model(model)`. This file format is considered legacy. We recommend using instead the native Keras format, e.g. `model.save('my_model.keras')` or `keras.saving.save_model(model, 'my_model.keras')`. \n"
     ]
    },
    {
     "name": "stdout",
     "output_type": "stream",
     "text": [
      "\u001b[1m8/8\u001b[0m \u001b[32m━━━━━━━━━━━━━━━━━━━━\u001b[0m\u001b[37m\u001b[0m \u001b[1m0s\u001b[0m 35ms/step - loss: 0.4348 - val_loss: 0.3836\n",
      "Epoch 7/10\n",
      "\u001b[1m5/8\u001b[0m \u001b[32m━━━━━━━━━━━━\u001b[0m\u001b[37m━━━━━━━━\u001b[0m \u001b[1m0s\u001b[0m 14ms/step - loss: 0.3687\n",
      "Epoch 7: val_loss improved from 0.38356 to 0.32806, saving model to crypto_model.h5\n"
     ]
    },
    {
     "name": "stderr",
     "output_type": "stream",
     "text": [
      "WARNING:absl:You are saving your model as an HDF5 file via `model.save()` or `keras.saving.save_model(model)`. This file format is considered legacy. We recommend using instead the native Keras format, e.g. `model.save('my_model.keras')` or `keras.saving.save_model(model, 'my_model.keras')`. \n"
     ]
    },
    {
     "name": "stdout",
     "output_type": "stream",
     "text": [
      "\u001b[1m8/8\u001b[0m \u001b[32m━━━━━━━━━━━━━━━━━━━━\u001b[0m\u001b[37m\u001b[0m \u001b[1m0s\u001b[0m 37ms/step - loss: 0.3657 - val_loss: 0.3281\n",
      "Epoch 8/10\n",
      "\u001b[1m5/8\u001b[0m \u001b[32m━━━━━━━━━━━━\u001b[0m\u001b[37m━━━━━━━━\u001b[0m \u001b[1m0s\u001b[0m 14ms/step - loss: 0.3214\n",
      "Epoch 8: val_loss improved from 0.32806 to 0.28617, saving model to crypto_model.h5\n"
     ]
    },
    {
     "name": "stderr",
     "output_type": "stream",
     "text": [
      "WARNING:absl:You are saving your model as an HDF5 file via `model.save()` or `keras.saving.save_model(model)`. This file format is considered legacy. We recommend using instead the native Keras format, e.g. `model.save('my_model.keras')` or `keras.saving.save_model(model, 'my_model.keras')`. \n"
     ]
    },
    {
     "name": "stdout",
     "output_type": "stream",
     "text": [
      "\u001b[1m8/8\u001b[0m \u001b[32m━━━━━━━━━━━━━━━━━━━━\u001b[0m\u001b[37m\u001b[0m \u001b[1m0s\u001b[0m 36ms/step - loss: 0.3216 - val_loss: 0.2862\n",
      "Epoch 9/10\n",
      "\u001b[1m8/8\u001b[0m \u001b[32m━━━━━━━━━━━━━━━━━━━━\u001b[0m\u001b[37m\u001b[0m \u001b[1m0s\u001b[0m 15ms/step - loss: 0.2910\n",
      "Epoch 9: val_loss improved from 0.28617 to 0.24961, saving model to crypto_model.h5\n"
     ]
    },
    {
     "name": "stderr",
     "output_type": "stream",
     "text": [
      "WARNING:absl:You are saving your model as an HDF5 file via `model.save()` or `keras.saving.save_model(model)`. This file format is considered legacy. We recommend using instead the native Keras format, e.g. `model.save('my_model.keras')` or `keras.saving.save_model(model, 'my_model.keras')`. \n"
     ]
    },
    {
     "name": "stdout",
     "output_type": "stream",
     "text": [
      "\u001b[1m8/8\u001b[0m \u001b[32m━━━━━━━━━━━━━━━━━━━━\u001b[0m\u001b[37m\u001b[0m \u001b[1m0s\u001b[0m 39ms/step - loss: 0.2904 - val_loss: 0.2496\n",
      "Epoch 10/10\n",
      "\u001b[1m5/8\u001b[0m \u001b[32m━━━━━━━━━━━━\u001b[0m\u001b[37m━━━━━━━━\u001b[0m \u001b[1m0s\u001b[0m 13ms/step - loss: 0.2754\n",
      "Epoch 10: val_loss improved from 0.24961 to 0.22907, saving model to crypto_model.h5\n"
     ]
    },
    {
     "name": "stderr",
     "output_type": "stream",
     "text": [
      "WARNING:absl:You are saving your model as an HDF5 file via `model.save()` or `keras.saving.save_model(model)`. This file format is considered legacy. We recommend using instead the native Keras format, e.g. `model.save('my_model.keras')` or `keras.saving.save_model(model, 'my_model.keras')`. \n"
     ]
    },
    {
     "name": "stdout",
     "output_type": "stream",
     "text": [
      "\u001b[1m8/8\u001b[0m \u001b[32m━━━━━━━━━━━━━━━━━━━━\u001b[0m\u001b[37m\u001b[0m \u001b[1m0s\u001b[0m 38ms/step - loss: 0.2648 - val_loss: 0.2291\n"
     ]
    },
    {
     "name": "stderr",
     "output_type": "stream",
     "text": [
      "WARNING:absl:Compiled the loaded model, but the compiled metrics have yet to be built. `model.compile_metrics` will be empty until you train or evaluate the model.\n",
      "WARNING:absl:You are saving your model as an HDF5 file via `model.save()` or `keras.saving.save_model(model)`. This file format is considered legacy. We recommend using instead the native Keras format, e.g. `model.save('my_model.keras')` or `keras.saving.save_model(model, 'my_model.keras')`. \n"
     ]
    },
    {
     "name": "stdout",
     "output_type": "stream",
     "text": [
      "✅ Training completed. Proceeding to save the model...\n",
      "✅ Model saved as crypto_model.h5, Scaler saved as crypto_model_scaler.pkl\n",
      "🎯 Model training completed successfully!\n"
     ]
    }
   ],
   "source": [
    "import requests\n",
    "import numpy as np\n",
    "import pandas as pd\n",
    "import tensorflow as tf\n",
    "from tensorflow.keras.models import Sequential, load_model\n",
    "from tensorflow.keras.layers import LSTM, Dense, Dropout\n",
    "from tensorflow.keras.regularizers import l2\n",
    "from tensorflow.keras.callbacks import EarlyStopping, ModelCheckpoint\n",
    "import matplotlib.pyplot as plt\n",
    "from sklearn.preprocessing import MinMaxScaler\n",
    "from sklearn.metrics import mean_squared_error, mean_absolute_error\n",
    "import joblib\n",
    "import time\n",
    "import os\n",
    "\n",
    "# ======================= Fetch Crypto Data ======================= #\n",
    "def fetch_crypto_data(symbol, interval, limit=100, retries=3, delay=2):\n",
    "    url = f\"https://api.binance.com/api/v3/klines?symbol={symbol}USDT&interval={interval}&limit={limit}\"\n",
    "    \n",
    "    for attempt in range(retries):\n",
    "        try:\n",
    "            print(f\"Fetching data for {symbol} at {interval} interval...\")\n",
    "            response = requests.get(url)\n",
    "            response.raise_for_status()\n",
    "            data = response.json()\n",
    "            \n",
    "            df = pd.DataFrame(data, columns=[\n",
    "                'timestamp', 'open', 'high', 'low', 'close', 'volume', 'close_time',\n",
    "                'quote_asset_volume', 'trades', 'taker_buy_base', 'taker_buy_quote', 'ignore'\n",
    "            ])\n",
    "            \n",
    "            df['timestamp'] = pd.to_datetime(df['timestamp'], unit='ms')\n",
    "            df.set_index('timestamp', inplace=True)\n",
    "            df['close'] = df['close'].astype(float)\n",
    "            print(\"✅ Data fetched successfully!\")\n",
    "            return df[['close']]\n",
    "        \n",
    "        except requests.exceptions.RequestException as e:\n",
    "            print(f\"⚠️ API Error (Attempt {attempt + 1}/{retries}): {e}\")\n",
    "            time.sleep(delay)\n",
    "    \n",
    "    print(\"❌ Failed to fetch data after multiple retries.\")\n",
    "    return None\n",
    "\n",
    "# ======================= Prepare Data ======================= #\n",
    "def prepare_data(df, time_steps=20):\n",
    "    if len(df) <= time_steps:\n",
    "        raise ValueError(f\"❌ Dataset too small for time_steps={time_steps}. Needs at least {time_steps + 1} rows.\")\n",
    "    \n",
    "    print(f\"📊 Preparing data with {time_steps} time steps...\")\n",
    "    scaler = MinMaxScaler()\n",
    "    df_scaled = scaler.fit_transform(df)\n",
    "    \n",
    "    X, y = [], []\n",
    "    for i in range(len(df_scaled) - time_steps):\n",
    "        X.append(df_scaled[i:i + time_steps])\n",
    "        y.append(df_scaled[i + time_steps])\n",
    "    \n",
    "    X, y = np.array(X), np.array(y)\n",
    "    print(f\"✅ Data prepared! Shape: X={X.shape}, y={y.shape}\")\n",
    "    return X, y, scaler\n",
    "\n",
    "# ======================= Build LSTM Model ======================= #\n",
    "def build_lstm_model(input_shape):\n",
    "    print(\"🔧 Building LSTM model...\")\n",
    "    model = Sequential([\n",
    "        LSTM(50, return_sequences=True, input_shape=input_shape, kernel_regularizer=l2(0.01)),\n",
    "        Dropout(0.2),\n",
    "        LSTM(50, return_sequences=False, kernel_regularizer=l2(0.01)),\n",
    "        Dropout(0.2),\n",
    "        Dense(25),\n",
    "        Dense(1)\n",
    "    ])\n",
    "    model.compile(optimizer='adam', loss='mean_squared_error')\n",
    "    print(\"✅ Model built successfully!\")\n",
    "    return model\n",
    "\n",
    "# ======================= Train & Save Model ======================= #\n",
    "def train_and_save_model(symbol, interval, epochs=100, batch_size=16, time_steps=20, model_filename=\"crypto_model.h5\"):\n",
    "    print(\"🚀 Starting model training...\")\n",
    "    \n",
    "    # Fetch Data\n",
    "    df = fetch_crypto_data(symbol, interval)\n",
    "    if df is None:\n",
    "        print(\"❌ No data fetched. Exiting training.\")\n",
    "        return None\n",
    "    \n",
    "    # Prepare Data\n",
    "    try:\n",
    "        X, y, scaler = prepare_data(df, time_steps)\n",
    "    except ValueError as e:\n",
    "        print(e)\n",
    "        return None\n",
    "    \n",
    "    # Split Data\n",
    "    train_size = int(len(X) * 0.8)\n",
    "    X_train, y_train = X[:train_size], y[:train_size]\n",
    "    X_test, y_test = X[train_size:], y[train_size:]\n",
    "    \n",
    "    # Build Model\n",
    "    model = build_lstm_model((X.shape[1], X.shape[2]))\n",
    "    \n",
    "    # Callbacks\n",
    "    early_stopping = EarlyStopping(monitor='val_loss', patience=5, restore_best_weights=True)\n",
    "    model_checkpoint = ModelCheckpoint(\n",
    "        model_filename, save_best_only=True, mode='min', verbose=1\n",
    "    )\n",
    "\n",
    "    # Train Model\n",
    "    try:\n",
    "        history = model.fit(X_train, y_train, validation_data=(X_test, y_test),\n",
    "                            epochs=epochs, batch_size=batch_size, verbose=1,\n",
    "                            callbacks=[early_stopping, model_checkpoint])\n",
    "        print(\"✅ Training completed. Proceeding to save the model...\")\n",
    "\n",
    "        # Load best model after training\n",
    "        model = load_model(model_filename)\n",
    "        model.save(model_filename)\n",
    "        \n",
    "        # Save Scaler\n",
    "        scaler_filename = model_filename.replace(\".h5\", \"_scaler.pkl\")\n",
    "        joblib.dump(scaler, scaler_filename)\n",
    "        print(f\"✅ Model saved as {model_filename}, Scaler saved as {scaler_filename}\")\n",
    "\n",
    "        return model_filename, scaler_filename\n",
    "    \n",
    "    except Exception as e:\n",
    "        print(f\"❌ Training failed with error: {e}\")\n",
    "        return None\n",
    "\n",
    "# ======================= Evaluate Model ======================= #\n",
    "def evaluate_model(model, X_test, y_test, scaler):\n",
    "    print(\"📈 Evaluating model...\")\n",
    "    predictions = model.predict(X_test)\n",
    "    predictions = scaler.inverse_transform(predictions)\n",
    "    y_test_original = scaler.inverse_transform(y_test)\n",
    "    \n",
    "    rmse = np.sqrt(mean_squared_error(y_test_original, predictions))\n",
    "    mae = mean_absolute_error(y_test_original, predictions)\n",
    "    \n",
    "    print(f\"✅ RMSE: {rmse:.4f}\")\n",
    "    print(f\"✅ MAE: {mae:.4f}\")\n",
    "\n",
    "# ======================= Load & Predict ======================= #\n",
    "def load_and_predict(model_filename, symbol, interval, time_steps=20):\n",
    "    print(f\"🔍 Loading model {model_filename} for prediction...\")\n",
    "    \n",
    "    df = fetch_crypto_data(symbol, interval)\n",
    "    if df is None:\n",
    "        print(\"❌ No data fetched for prediction.\")\n",
    "        return None\n",
    "    \n",
    "    try:\n",
    "        X, _, scaler = prepare_data(df, time_steps)\n",
    "        model = load_model(model_filename)\n",
    "        predictions = model.predict(X)\n",
    "        predictions = scaler.inverse_transform(predictions)\n",
    "        \n",
    "        print(\"✅ Predictions completed!\")\n",
    "        return df.index[-len(predictions):], predictions\n",
    "    \n",
    "    except Exception as e:\n",
    "        print(f\"❌ Prediction failed with error: {e}\")\n",
    "        return None\n",
    "\n",
    "# ======================= Run Training ======================= #\n",
    "if __name__ == \"__main__\":\n",
    "    # Set Parameters\n",
    "    symbol = \"BTC\"\n",
    "    interval = \"1h\"\n",
    "    epochs = 10\n",
    "    batch_size = 8\n",
    "    time_steps = 20\n",
    "    model_filename = \"crypto_model.h5\"\n",
    "\n",
    "    # Train Model\n",
    "    model_path, scaler_path = train_and_save_model(symbol, interval, epochs, batch_size, time_steps, model_filename)\n",
    "\n",
    "    # Evaluate Model\n",
    "    if model_path:\n",
    "        print(\"🎯 Model training completed successfully!\")\n",
    "    else:\n",
    "        print(\"❌ Model training failed.\")\n"
   ]
  }
 ],
 "metadata": {
  "kernelspec": {
   "display_name": "Python 3",
   "language": "python",
   "name": "python3"
  },
  "language_info": {
   "codemirror_mode": {
    "name": "ipython",
    "version": 3
   },
   "file_extension": ".py",
   "mimetype": "text/x-python",
   "name": "python",
   "nbconvert_exporter": "python",
   "pygments_lexer": "ipython3",
   "version": "3.12.0"
  }
 },
 "nbformat": 4,
 "nbformat_minor": 2
}
